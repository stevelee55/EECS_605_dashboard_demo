{
 "cells": [
  {
   "cell_type": "code",
   "execution_count": 1,
   "metadata": {},
   "outputs": [],
   "source": [
    "# GUI Packages.\n",
    "%matplotlib inline\n",
    "import matplotlib.pyplot as plt\n",
    "import ipywidgets as widgets"
   ]
  },
  {
   "cell_type": "code",
   "execution_count": 2,
   "metadata": {},
   "outputs": [],
   "source": [
    "# Custom AWS Packages.\n",
    "import eecs605aws"
   ]
  },
  {
   "cell_type": "code",
   "execution_count": 3,
   "metadata": {},
   "outputs": [],
   "source": [
    "# AWS Variables.\n",
    "s3BucketName = \"handwriting-recog-aws-bucket\"\n",
    "inputImageFileName = \"digit.png\"\n",
    "resultsDataFileName = \"results.txt\""
   ]
  },
  {
   "cell_type": "code",
   "execution_count": 4,
   "metadata": {},
   "outputs": [],
   "source": [
    "### Creating GUI Components ###\n",
    "\n",
    "## Image upload callback function and button ##\n",
    "def imageUpload(imageData):\n",
    "    # Due to the file structure, image file name needs to be\n",
    "    # extracted to access the bytes data of the image.\n",
    "    imageFileName = list(imageData[\"new\"].keys())[0]\n",
    "    # Image bytes data.\n",
    "    imageBytesData = imageData[\"new\"][imageFileName][\"content\"]\n",
    "    # Writing image file to current directory with \"inputImageFileName\".\n",
    "    with open(inputImageFileName, \"wb\") as imageFile:\n",
    "        imageFile.write(imageBytesData)\n",
    "    \n",
    "    # Displaying uploaded image in GUI.\n",
    "    display(widgets.Image(value=imageBytesData))\n",
    "    # Showing AWS GUI Components.\n",
    "    display(awsProgressRefreshRateSlider)\n",
    "    display(awsUploadButton)\n",
    "\n",
    "imageUploaderButton = widgets.FileUpload(multiple=False)\n",
    "# Specifying which function to run whenever an image is uploaded.\n",
    "imageUploaderButton.observe(imageUpload, names='value')"
   ]
  },
  {
   "cell_type": "code",
   "execution_count": 5,
   "metadata": {},
   "outputs": [],
   "source": [
    "## AWS Progress Refresh Rate Selector ##\n",
    "awsProgressRefreshRateSlider = widgets.FloatSlider(min=0, max=1.0,)"
   ]
  },
  {
   "cell_type": "code",
   "execution_count": 6,
   "metadata": {},
   "outputs": [],
   "source": [
    "## AWS Image Upload callback function and button ##\n",
    "def awsImageUpload(buttonObject):\n",
    "\n",
    "    # Upload digit.png to S3 to produce the results.txt using lambda.\n",
    "    eecs605aws.run(s3BucketName, inputImageFileName, resultsDataFileName, awsProgressRefreshRateSlider.value)\n",
    "    \n",
    "    # Display Results\n",
    "    with open(resultsDataFileName, \"r\") as results:\n",
    "        # Extracting prediction results.\n",
    "        vals = {}\n",
    "        for result in results:\n",
    "            # class=1 ; probability=0.573457\n",
    "            values = result.split(\";\")\n",
    "            classValue = values[0].strip(\" \").replace(\"class=\", \"\")\n",
    "            predictionValue= values[1].strip(\" \").replace(\"probability=\", \"\").replace(\"\\n\", \"\")\n",
    "            vals[predictionValue] = classValue\n",
    "        \n",
    "        # Finding the prediction value with the highest prediction value.\n",
    "        predictedValue = vals[str(max(vals.keys()))]\n",
    "        predictionProbabilityValue = str(max(vals.keys()))\n",
    "        \n",
    "        # Displaying values and the input image.\n",
    "        img = plt.imread(inputImageFileName)\n",
    "        plt.imshow(img)\n",
    "        title = plt.title(\"Predicted: \\\"%s\\\", Probability: %s\" % (predictedValue, predictionProbabilityValue))\n",
    "\n",
    "awsUploadButton = widgets.Button(description=\"Upload to AWS\")\n",
    "awsUploadButton.on_click(awsImageUpload)"
   ]
  },
  {
   "cell_type": "code",
   "execution_count": 7,
   "metadata": {},
   "outputs": [
    {
     "data": {
      "application/vnd.jupyter.widget-view+json": {
       "model_id": "b32ed60bad6943a78177a83d49f8111c",
       "version_major": 2,
       "version_minor": 0
      },
      "text/plain": [
       "FileUpload(value={}, description='Upload')"
      ]
     },
     "metadata": {},
     "output_type": "display_data"
    }
   ],
   "source": [
    "# Display GUI.\n",
    "# Note: If new image is being uploaded, the code\n",
    "# needs to be re-run from the top to the bottom.\n",
    "display(imageUploaderButton)"
   ]
  },
  {
   "cell_type": "code",
   "execution_count": null,
   "metadata": {},
   "outputs": [],
   "source": []
  }
 ],
 "metadata": {
  "kernelspec": {
   "display_name": "Python 3",
   "language": "python",
   "name": "python3"
  },
  "language_info": {
   "codemirror_mode": {
    "name": "ipython",
    "version": 3
   },
   "file_extension": ".py",
   "mimetype": "text/x-python",
   "name": "python",
   "nbconvert_exporter": "python",
   "pygments_lexer": "ipython3",
   "version": "3.7.4"
  }
 },
 "nbformat": 4,
 "nbformat_minor": 2
}
