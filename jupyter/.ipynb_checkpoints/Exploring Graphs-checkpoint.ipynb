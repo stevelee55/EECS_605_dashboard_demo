{
 "cells": [
  {
   "cell_type": "markdown",
   "metadata": {},
   "source": [
    "## Explore Random Graphs Using NetworkX"
   ]
  },
  {
   "cell_type": "markdown",
   "metadata": {},
   "source": [
    "In this example, we build a simple UI for exploring random graphs with [NetworkX](http://networkx.github.io/)."
   ]
  },
  {
   "cell_type": "code",
   "execution_count": 3,
   "metadata": {},
   "outputs": [
    {
     "ename": "ModuleNotFoundError",
     "evalue": "No module named 'ipywidgets'",
     "output_type": "error",
     "traceback": [
      "\u001b[0;31m---------------------------------------------------------------------------\u001b[0m",
      "\u001b[0;31mModuleNotFoundError\u001b[0m                       Traceback (most recent call last)",
      "\u001b[0;32m<ipython-input-3-73125a82818b>\u001b[0m in \u001b[0;36m<module>\u001b[0;34m\u001b[0m\n\u001b[0;32m----> 1\u001b[0;31m \u001b[0;32mimport\u001b[0m \u001b[0mipywidgets\u001b[0m \u001b[0;32mas\u001b[0m \u001b[0mwidgets\u001b[0m\u001b[0;34m\u001b[0m\u001b[0;34m\u001b[0m\u001b[0m\n\u001b[0m\u001b[1;32m      2\u001b[0m \u001b[0;32mfrom\u001b[0m \u001b[0mipywidgets\u001b[0m \u001b[0;32mimport\u001b[0m \u001b[0minteract\u001b[0m\u001b[0;34m\u001b[0m\u001b[0;34m\u001b[0m\u001b[0m\n",
      "\u001b[0;31mModuleNotFoundError\u001b[0m: No module named 'ipywidgets'"
     ]
    }
   ],
   "source": [
    "import ipywidgets as widgets\n",
    "from ipywidgets import interact"
   ]
  },
  {
   "cell_type": "code",
   "execution_count": 1,
   "metadata": {},
   "outputs": [],
   "source": [
    "%matplotlib inline\n",
    "import matplotlib.pyplot as plt\n",
    "import boto3\n",
    "import os.path\n",
    "from os import path\n",
    "client = boto3.client('s3')\n",
    "import time as time"
   ]
  },
  {
   "cell_type": "code",
   "execution_count": null,
   "metadata": {},
   "outputs": [],
   "source": [
    "widgets.FileUpload(\n",
    "    accept='',  # Accepted file extension e.g. '.txt', '.pdf', 'image/*', 'image/*,.pdf'\n",
    "    multiple=False  # True to accept multiple files upload else False\n",
    ")"
   ]
  },
  {
   "cell_type": "markdown",
   "metadata": {},
   "source": [
    "TODO: Interact environment where we choose file -- this sets the file2put variable name to the string and path associated with what was selected.\n",
    "    Also a slider for the refresh_rate with a default of 1 but it goes from 0.5 to 2 (with 10 increments in between)\n",
    "    1) Polish pulling data from AWS.\n",
    "    2) Modulaize AWS client access to make it simple.\n",
    "    3) Create UI using Interact().\n",
    "    4) Figure out hosting on Docker.\n",
    "    5) Fix previous AWS related work.\n",
    "    "
   ]
  },
  {
   "cell_type": "code",
   "execution_count": 15,
   "metadata": {},
   "outputs": [
    {
     "name": "stdout",
     "output_type": "stream",
     "text": [
      "Waiting for result\n",
      "Waiting for result\n",
      "Waiting for result\n",
      "Waiting for result\n",
      "Waiting for result\n",
      "Waiting for result\n",
      "Waiting for result\n",
      "Waiting for result\n",
      "Downloading\n",
      "Downloading\n"
     ]
    },
    {
     "data": {
      "image/png": "[encoded data removed]",
      "text/plain": [
       "<Figure size 432x288 with 1 Axes>"
      ]
     },
     "metadata": {
      "needs_background": "light"
     },
     "output_type": "display_data"
    },
    {
     "data": {
      "image/png": "[encoded data removed]",
      "text/plain": [
       "<Figure size 432x288 with 1 Axes>"
      ]
     },
     "metadata": {
      "needs_background": "light"
     },
     "output_type": "display_data"
    }
   ],
   "source": [
    "\n",
    "# Upload digit.png to s3 to produce the results.txt using lambda.\n",
    "file2put = 'digit.png' ##TODO: Put widget so that someone can select file\n",
    "\n",
    "do_aws_stuff(file2put,refresh_rate) ## makes this a function\n",
    "\n",
    "client.upload_file(file2put, 'handwriting-recog-aws-bucket', file2put)\n",
    "file2get = 'results.txt'\n",
    "\n",
    "\n",
    "\n",
    "while True:\n",
    "    try:\n",
    "        client.download_file('handwriting-recog-aws-bucket', file2get, file2get)\n",
    "        print(\"Downloading\")\n",
    "        break\n",
    "    except:\n",
    "        print(\"Waiting for result\")\n",
    "        time.sleep(refresh_rate)\n",
    "    \n",
    "\n",
    "client.delete_object(Bucket='handwriting-recog-aws-bucket',Key=file2get)\n",
    "client.delete_object(Bucket='handwriting-recog-aws-bucket',Key=file2put)\n",
    "\n",
    "with open(\"results.txt\", \"r\") as results:\n",
    "    vals = []\n",
    "    min_num = 0\n",
    "    for result in results:\n",
    "        val = result.split(\"=\")[2]\n",
    "        vals.append(val)\n",
    "        \n",
    "    img = plt.imread(file2put)\n",
    "    plt.imshow(img)\n",
    "    title = plt.title(str(max(vals)))\n",
    "\n",
    "\n",
    "   # plt.setp(title)\n",
    "        \n",
    "#     img = plt.imread(file2get)\n",
    "    \n",
    "#     # with open(file2get, \"r\") as img:\n",
    "\n",
    "#     plt.imshow(file2get,img)\n",
    "    \n"
   ]
  },
  {
   "cell_type": "code",
   "execution_count": null,
   "metadata": {},
   "outputs": [],
   "source": []
  },
  {
   "cell_type": "markdown",
   "metadata": {},
   "source": [
    "with open(\"results.txt\", \"r\") as results:\n",
    "    for result in results:\n",
    "        print(result)"
   ]
  },
  {
   "cell_type": "markdown",
   "metadata": {},
   "source": [
    "client.download_file('handwriting-recog-aws-bucket', file2get, file2get)"
   ]
  },
  {
   "cell_type": "code",
   "execution_count": null,
   "metadata": {},
   "outputs": [],
   "source": []
  },
  {
   "cell_type": "markdown",
   "metadata": {},
   "source": [
    "import networkx as nx"
   ]
  },
  {
   "cell_type": "markdown",
   "metadata": {},
   "source": [
    "# wrap a few graph generation functions so they have the same signature\n",
    "\n",
    "def random_lobster(n, m, k, p):\n",
    "    return nx.random_lobster(n, p, p / m)\n",
    "\n",
    "def powerlaw_cluster(n, m, k, p):\n",
    "    return nx.powerlaw_cluster_graph(n, m, p)\n",
    "\n",
    "def erdos_renyi(n, m, k, p):\n",
    "    return nx.erdos_renyi_graph(n, p)\n",
    "\n",
    "def newman_watts_strogatz(n, m, k, p):\n",
    "    return nx.newman_watts_strogatz_graph(n, k, p)\n",
    "\n",
    "def plot_random_graph(n, m, k, p, generator):\n",
    "    g = generator(n, m, k, p)\n",
    "    nx.draw(g)\n",
    "    plt.show()\n"
   ]
  },
  {
   "cell_type": "code",
   "execution_count": null,
   "metadata": {},
   "outputs": [],
   "source": []
  },
  {
   "cell_type": "markdown",
   "metadata": {},
   "source": [
    "interact(plot_random_graph, n=(2,30), m=(1,10), k=(1,10), p=(0.0, 1.0, 0.001),\n",
    "         generator={\n",
    "             'ㄴㅅㄷㅍㄷ lobster': random_lobster,\n",
    "             'power law': powerlaw_cluster,\n",
    "             'Newman-Watts-Strogatz': newman_watts_strogatz,\n",
    "             u'Erdős-Rényi': erdos_renyi,\n",
    "         });"
   ]
  }
 ],
 "metadata": {
  "kernelspec": {
   "display_name": "Python 3",
   "language": "python",
   "name": "python3"
  },
  "language_info": {
   "codemirror_mode": {
    "name": "ipython",
    "version": 3
   },
   "file_extension": ".py",
   "mimetype": "text/x-python",
   "name": "python",
   "nbconvert_exporter": "python",
   "pygments_lexer": "ipython3",
   "version": "3.7.4"
  }
 },
 "nbformat": 4,
 "nbformat_minor": 2
}
