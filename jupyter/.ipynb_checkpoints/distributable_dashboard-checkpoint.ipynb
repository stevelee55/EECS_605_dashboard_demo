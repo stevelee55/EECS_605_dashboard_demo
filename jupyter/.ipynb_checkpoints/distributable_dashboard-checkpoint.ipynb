{
 "cells": [
  {
   "cell_type": "code",
   "execution_count": 1,
   "metadata": {},
   "outputs": [
    {
     "data": {
      "application/vnd.jupyter.widget-view+json": {
       "model_id": "73efd5da34514ef897e4d943dea41c6f",
       "version_major": 2,
       "version_minor": 0
      },
      "text/plain": [
       "FileUpload(value={}, description='Upload')"
      ]
     },
     "metadata": {},
     "output_type": "display_data"
    },
    {
     "data": {
      "application/vnd.jupyter.widget-view+json": {
       "model_id": "510254cdff98425cbf9abd40ca56a90b",
       "version_major": 2,
       "version_minor": 0
      },
      "text/plain": [
       "Image(value=b'\\x89PNG\\r\\n\\x1a\\n\\x00\\x00\\x00\\rIHDR\\x00\\x00\\x02X\\x00\\x00\\x02X\\x08\\x06\\x00\\x00\\x00\\xbef\\x98\\xdc\\x…"
      ]
     },
     "metadata": {},
     "output_type": "display_data"
    },
    {
     "data": {
      "application/vnd.jupyter.widget-view+json": {
       "model_id": "b2249438e8d74aaca54fc9185c22b718",
       "version_major": 2,
       "version_minor": 0
      },
      "text/plain": [
       "FloatSlider(value=0.0, max=1.0)"
      ]
     },
     "metadata": {},
     "output_type": "display_data"
    },
    {
     "data": {
      "application/vnd.jupyter.widget-view+json": {
       "model_id": "46529fe06d9143358eac171ecfdbd4e0",
       "version_major": 2,
       "version_minor": 0
      },
      "text/plain": [
       "Button(description='Upload to AWS', style=ButtonStyle())"
      ]
     },
     "metadata": {},
     "output_type": "display_data"
    },
    {
     "name": "stdout",
     "output_type": "stream",
     "text": [
      "Waiting for result\n",
      "Waiting for result\n",
      "Waiting for result\n",
      "Waiting for result\n",
      "Waiting for result\n",
      "Waiting for result\n",
      "Waiting for result\n",
      "Waiting for result\n",
      "Waiting for result\n",
      "Waiting for result\n",
      "Waiting for result\n",
      "Waiting for result\n",
      "Waiting for result\n",
      "Waiting for result\n",
      "Waiting for result\n",
      "Waiting for result\n",
      "Waiting for result\n",
      "Waiting for result\n",
      "Waiting for result\n",
      "Waiting for result\n",
      "Waiting for result\n",
      "Waiting for result\n",
      "Waiting for result\n",
      "Waiting for result\n",
      "Waiting for result\n",
      "Waiting for result\n",
      "Waiting for result\n",
      "Waiting for result\n",
      "Waiting for result\n",
      "Waiting for result\n",
      "Waiting for result\n",
      "Waiting for result\n",
      "Waiting for result\n",
      "Waiting for result\n",
      "Waiting for result\n",
      "Waiting for result\n",
      "Waiting for result\n",
      "Waiting for result\n",
      "Waiting for result\n",
      "Waiting for result\n",
      "Waiting for result\n",
      "Waiting for result\n",
      "Waiting for result\n",
      "Waiting for result\n",
      "Waiting for result\n",
      "Waiting for result\n",
      "Waiting for result\n",
      "Waiting for result\n",
      "Waiting for result\n",
      "Waiting for result\n",
      "Waiting for result\n",
      "Waiting for result\n",
      "Waiting for result\n",
      "Waiting for result\n",
      "Waiting for result\n",
      "Waiting for result\n",
      "Waiting for result\n",
      "Waiting for result\n",
      "Waiting for result\n",
      "Waiting for result\n",
      "Waiting for result\n",
      "Waiting for result\n",
      "Waiting for result\n",
      "Waiting for result\n",
      "Waiting for result\n",
      "Waiting for result\n",
      "Waiting for result\n",
      "Waiting for result\n",
      "Waiting for result\n",
      "Waiting for result\n",
      "Waiting for result\n",
      "Waiting for result\n",
      "Waiting for result\n",
      "Waiting for result\n",
      "Waiting for result\n",
      "Waiting for result\n",
      "Waiting for result\n",
      "Waiting for result\n",
      "Waiting for result\n",
      "Waiting for result\n",
      "Waiting for result\n",
      "Waiting for result\n",
      "Waiting for result\n",
      "Waiting for result\n",
      "Waiting for result\n",
      "Waiting for result\n",
      "Waiting for result\n",
      "Waiting for result\n",
      "Waiting for result\n",
      "Waiting for result\n",
      "Waiting for result\n",
      "Waiting for result\n",
      "Waiting for result\n",
      "Waiting for result\n",
      "Waiting for result\n",
      "Waiting for result\n",
      "Waiting for result\n",
      "Waiting for result\n",
      "Waiting for result\n",
      "Waiting for result\n"
     ]
    }
   ],
   "source": [
    "import eecs605\n",
    "%matplotlib inline\n",
    "\n",
    "eecs605.createDashBoard()"
   ]
  },
  {
   "cell_type": "code",
   "execution_count": null,
   "metadata": {},
   "outputs": [],
   "source": []
  },
  {
   "cell_type": "code",
   "execution_count": null,
   "metadata": {},
   "outputs": [],
   "source": []
  }
 ],
 "metadata": {
  "kernelspec": {
   "display_name": "Python 3",
   "language": "python",
   "name": "python3"
  },
  "language_info": {
   "codemirror_mode": {
    "name": "ipython",
    "version": 3
   },
   "file_extension": ".py",
   "mimetype": "text/x-python",
   "name": "python",
   "nbconvert_exporter": "python",
   "pygments_lexer": "ipython3",
   "version": "3.7.4"
  }
 },
 "nbformat": 4,
 "nbformat_minor": 4
}
